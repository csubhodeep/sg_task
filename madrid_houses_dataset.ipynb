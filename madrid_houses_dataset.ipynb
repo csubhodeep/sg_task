{
  "nbformat": 4,
  "nbformat_minor": 0,
  "metadata": {
    "colab": {
      "name": "Welcome To Colaboratory",
      "provenance": [],
      "collapsed_sections": [],
      "toc_visible": true,
      "include_colab_link": true
    },
    "kernelspec": {
      "display_name": "Python 3",
      "name": "python3"
    }
  },
  "cells": [
    {
      "cell_type": "markdown",
      "metadata": {
        "id": "view-in-github",
        "colab_type": "text"
      },
      "source": [
        "<a href=\"https://colab.research.google.com/github/csubhodeep/sg_task/blob/main/madrid_houses_dataset.ipynb\" target=\"_parent\"><img src=\"https://colab.research.google.com/assets/colab-badge.svg\" alt=\"Open In Colab\"/></a>"
      ]
    },
    {
      "cell_type": "markdown",
      "metadata": {
        "id": "IMxpEFrT8IGl"
      },
      "source": [
        "# Madrid houses dataset"
      ]
    },
    {
      "cell_type": "markdown",
      "metadata": {
        "id": "G0loSm2L9Vs8"
      },
      "source": [
        "## Problem description\n",
        "\n",
        "The data set is an excerpt of Madrid houses offered on the popular website [idealista.com](https://www.idealista.com/).\n",
        "\n",
        "The file is a comma separated text file with the following data fields:\n",
        "\n",
        "* 'Scrap_date': \"Scraping date - when the data point was collected in format YYYYMMDD\"\n",
        "* 'index': \"Entry ID - unique per scraping date\"\n",
        "* 'Area': \"Area of the flat in square meters\"\n",
        "* 'District': \"City District (normalized)\"\n",
        "* 'Elevator_class' : \"if an elevator is available (con) or not (sin); missing value: sin\"\n",
        "* 'Ext_int': \"if the flat is exterior or interior; missing value: interior\",\n",
        "* 'Floor_num': \"Floor of the flat; missing value: 0\"\n",
        "* 'Garage_opt_inc': \"If an Garage is optional (opt) or included (inc); missing value: \"\n",
        "* 'Garage_price': \"missing value: 0; if Garage_opt_in==opt, then > 0\",\n",
        "* 'Lat': \"Latitude of the flat; missing value: average \"\n",
        "* 'Lon': \"Longitude of the flat; missing value: average \"\n",
        "* 'New': \"Flat appears for the first time in this scrapping\"\n",
        "* 'Nudo': \"Flat is sold as naked property\"\n",
        "* 'Price': \"The price in EUR\"\n",
        "* 'Quarter': \"City Quarter\"\n",
        "* 'Rooms_num': \"Number of Rooms of the flat; missing value: 1\"\n",
        "* 'Source URL': \"Source URL\"\n",
        "* 'Year': \"Construction/Last mayor renewal; missing value: average\"\n",
        "\n",
        "Note that the questions can be answered independently, some having a stronger Data Science or Data Engineer focus.\n",
        "\n",
        "*   What is the mean and median price of a house in Madrid? Why and how do they differ?    \n",
        "*   How are the floors and square meter distributed? What kind of distribution best fits them?   \n",
        "* What factors have the strongest influence on the price? Which ones on the price \n",
        "* How has the price per square meter evolved within the last year using the scrape date as a proxy?   \n",
        "* What architecture (in the cloud) do you propose for the tasks above? What might be issues/bottlenecks for scaling your architecture?   \n",
        "* How would you set up an environment to allow repeatable data collection (scraping)?   \n",
        "* How would you recommend storing the data? A future use case might involve the storing of images, videos, …   \n",
        "* How would you make the data available for further analysis (real-time and long term)?   \n",
        "* What issues might arise when using an external web source? How would you circumvent these?\n",
        "\n",
        " "
      ]
    },
    {
      "cell_type": "markdown",
      "metadata": {
        "id": "Ev_1XMoSGusF"
      },
      "source": [
        "Load data"
      ]
    },
    {
      "cell_type": "code",
      "metadata": {
        "id": "7QUgvaC28Hez"
      },
      "source": [
        "import pandas as pd"
      ],
      "execution_count": null,
      "outputs": []
    },
    {
      "cell_type": "markdown",
      "metadata": {
        "id": "vqCX4fJ9GVD0"
      },
      "source": [
        "What is the mean and median price of a house in Madrid? Why and how do they differ?   "
      ]
    },
    {
      "cell_type": "markdown",
      "metadata": {
        "id": "iHAVVAAAGf9h"
      },
      "source": [
        "How are the floors and square meter distributed? What kind of distribution best fits them? "
      ]
    },
    {
      "cell_type": "code",
      "metadata": {
        "id": "0mi7lUvN8QLh"
      },
      "source": [
        ""
      ],
      "execution_count": null,
      "outputs": []
    },
    {
      "cell_type": "markdown",
      "metadata": {
        "id": "AP6QBcS0GXIN"
      },
      "source": [
        "What factors have the strongest influence on the price? Which ones on the price "
      ]
    },
    {
      "cell_type": "markdown",
      "metadata": {
        "id": "ZEgeBUOcGXKo"
      },
      "source": [
        "How has the price per square meter evolved within the last year using the scrape date as a proxy? "
      ]
    },
    {
      "cell_type": "markdown",
      "metadata": {
        "id": "Vl5iUTp1GXM5"
      },
      "source": [
        "What architecture (in the cloud) do you propose for the tasks above? What might be issues/bottlenecks for scaling your architecture? "
      ]
    },
    {
      "cell_type": "markdown",
      "metadata": {
        "id": "NtgNYGPzGXPo"
      },
      "source": [
        "How would you set up an environment to allow repeatable data collection (scraping)? "
      ]
    },
    {
      "cell_type": "markdown",
      "metadata": {
        "id": "jkv_4GfaGXSa"
      },
      "source": [
        "How would you recommend storing the data? A future use case might involve the storing of images, videos, … "
      ]
    },
    {
      "cell_type": "markdown",
      "metadata": {
        "id": "WUTbAIugGXU4"
      },
      "source": [
        "How would you make the data available for further analysis (real-time and long term)? "
      ]
    },
    {
      "cell_type": "markdown",
      "metadata": {
        "id": "Et-JqsCvGXXq"
      },
      "source": [
        "How would you make the data available for further analysis (real-time and long term)? "
      ]
    },
    {
      "cell_type": "markdown",
      "metadata": {
        "id": "4s8Zuik2GsWf"
      },
      "source": [
        "What issues might arise when using an external web source? How would you circumvent these?"
      ]
    }
  ]
}