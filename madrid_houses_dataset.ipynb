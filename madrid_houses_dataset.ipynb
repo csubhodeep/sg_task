{
  "nbformat": 4,
  "nbformat_minor": 0,
  "metadata": {
    "colab": {
      "name": "Welcome To Colaboratory",
      "provenance": [],
      "collapsed_sections": [],
      "include_colab_link": true
    },
    "kernelspec": {
      "display_name": "Python 3",
      "name": "python3"
    }
  },
  "cells": [
    {
      "cell_type": "markdown",
      "metadata": {
        "id": "view-in-github",
        "colab_type": "text"
      },
      "source": [
        "<a href=\"https://colab.research.google.com/github/csubhodeep/sg_task/blob/main/madrid_houses_dataset.ipynb\" target=\"_parent\"><img src=\"https://colab.research.google.com/assets/colab-badge.svg\" alt=\"Open In Colab\"/></a>"
      ]
    },
    {
      "cell_type": "markdown",
      "metadata": {
        "id": "IMxpEFrT8IGl"
      },
      "source": [
        "# Madrid houses dataset"
      ]
    },
    {
      "cell_type": "markdown",
      "metadata": {
        "id": "G0loSm2L9Vs8"
      },
      "source": [
        "## Problem description\n",
        "\n",
        "The data set is an excerpt of Madrid houses offered on the popular website [idealista.com](https://www.idealista.com/).\n",
        "\n",
        "The file is a comma separated text file with the following data fields:\n",
        "\n",
        "* 'Scrap_date': Scraping date - when the data point was collected in format YYYYMMDD\n",
        "* 'index': Entry ID - unique per scraping date\n",
        "* 'Area': Area of the flat in square meters\n",
        "* 'District': City District (normalized)\n",
        "* 'Elevator_class': if an elevator is available (con) or not (sin); missing value: sin\n",
        "* 'Ext_int': if the flat is exterior or interior; missing value: interior\n",
        "* 'Floor_num': Floor of the flat; missing value: 0\n",
        "* 'Garage_opt_inc': If an Garage is optional (opt) or included (inc); missing value: \"0\"\n",
        "* 'Garage_price': missing value: 0; if Garage_opt_in==opt, then > 0\n",
        "* 'Lat': Latitude of the flat; missing value: average \n",
        "* 'Lon': Longitude of the flat; missing value: average \n",
        "* 'New': Flat appears for the first time in this scrapping\n",
        "* 'Nudo': Flat is sold as naked property\n",
        "* 'Price': The price in EUR\n",
        "* 'Quarter': City Quarter\n",
        "* 'Rooms_num': Number of Rooms of the flat; missing value: 1\n",
        "* 'Source URL': Source URL\n",
        "* 'Year': Construction/Last mayor renewal; missing value: average\n",
        "\n",
        "Note that the questions can be answered independently, some having a stronger Data Science or Data Engineer focus.\n",
        "\n",
        "*   What is the mean and median price of a house in Madrid? Why and how do they differ?    \n",
        "*   How are the floors and square meter distributed? What kind of distribution best fits them?   \n",
        "* What factors have the strongest influence on the price? Which ones on the price \n",
        "* How has the price per square meter evolved within the last year using the scrape date as a proxy?   \n",
        "* What architecture (in the cloud) do you propose for the tasks above? What might be issues/bottlenecks for scaling your architecture?   \n",
        "* How would you set up an environment to allow repeatable data collection (scraping)?   \n",
        "* How would you recommend storing the data? A future use case might involve the storing of images, videos, …   \n",
        "* How would you make the data available for further analysis (real-time and long term)?   \n",
        "* What issues might arise when using an external web source? How would you circumvent these?\n",
        "\n",
        " "
      ]
    },
    {
      "cell_type": "markdown",
      "metadata": {
        "id": "Ev_1XMoSGusF"
      },
      "source": [
        "Load data"
      ]
    },
    {
      "cell_type": "code",
      "metadata": {
        "id": "7QUgvaC28Hez",
        "outputId": "7f95684a-70dd-41f8-f76c-f333a0df3639",
        "colab": {
          "base_uri": "https://localhost:8080/"
        }
      },
      "source": [
        "import pandas as pd\n",
        "df = pd.read_csv('madrid.csv')"
      ],
      "execution_count": 1,
      "outputs": [
        {
          "output_type": "stream",
          "text": [
            "/usr/local/lib/python3.6/dist-packages/IPython/core/interactiveshell.py:2718: DtypeWarning: Columns (11) have mixed types.Specify dtype option on import or set low_memory=False.\n",
            "  interactivity=interactivity, compiler=compiler, result=result)\n"
          ],
          "name": "stderr"
        }
      ]
    },
    {
      "cell_type": "code",
      "metadata": {
        "id": "66_9h_-NRONu",
        "outputId": "5f087665-84d8-49ab-d193-23caf76de35e",
        "colab": {
          "base_uri": "https://localhost:8080/"
        }
      },
      "source": [
        "# look into data\n",
        "df.info()"
      ],
      "execution_count": 2,
      "outputs": [
        {
          "output_type": "stream",
          "text": [
            "<class 'pandas.core.frame.DataFrame'>\n",
            "RangeIndex: 41961 entries, 0 to 41960\n",
            "Data columns (total 18 columns):\n",
            " #   Column          Non-Null Count  Dtype  \n",
            "---  ------          --------------  -----  \n",
            " 0   Scrap_date      41961 non-null  int64  \n",
            " 1   index           41961 non-null  int64  \n",
            " 2   Area            41961 non-null  float64\n",
            " 3   District        41961 non-null  object \n",
            " 4   Elevator_class  41961 non-null  object \n",
            " 5   Ext_int         41961 non-null  object \n",
            " 6   Floor_num       41961 non-null  float64\n",
            " 7   Garage_opt_inc  41961 non-null  object \n",
            " 8   Garage_price    41961 non-null  float64\n",
            " 9   Lat             41961 non-null  float64\n",
            " 10  Lon             41961 non-null  float64\n",
            " 11  New             30665 non-null  object \n",
            " 12  Nudo            41961 non-null  bool   \n",
            " 13  Price           41961 non-null  float64\n",
            " 14  Quarter         41961 non-null  object \n",
            " 15  Rooms_num       41961 non-null  float64\n",
            " 16  Source URL      41961 non-null  object \n",
            " 17  Year            41961 non-null  float64\n",
            "dtypes: bool(1), float64(8), int64(2), object(7)\n",
            "memory usage: 5.5+ MB\n"
          ],
          "name": "stdout"
        }
      ]
    },
    {
      "cell_type": "code",
      "metadata": {
        "id": "lGo8Y9MMRR2k",
        "outputId": "8f91f557-eaab-4ca0-d63f-c189fbff3fdd",
        "colab": {
          "base_uri": "https://localhost:8080/",
          "height": 293
        }
      },
      "source": [
        "df.head()"
      ],
      "execution_count": 3,
      "outputs": [
        {
          "output_type": "execute_result",
          "data": {
            "text/html": [
              "<div>\n",
              "<style scoped>\n",
              "    .dataframe tbody tr th:only-of-type {\n",
              "        vertical-align: middle;\n",
              "    }\n",
              "\n",
              "    .dataframe tbody tr th {\n",
              "        vertical-align: top;\n",
              "    }\n",
              "\n",
              "    .dataframe thead th {\n",
              "        text-align: right;\n",
              "    }\n",
              "</style>\n",
              "<table border=\"1\" class=\"dataframe\">\n",
              "  <thead>\n",
              "    <tr style=\"text-align: right;\">\n",
              "      <th></th>\n",
              "      <th>Scrap_date</th>\n",
              "      <th>index</th>\n",
              "      <th>Area</th>\n",
              "      <th>District</th>\n",
              "      <th>Elevator_class</th>\n",
              "      <th>Ext_int</th>\n",
              "      <th>Floor_num</th>\n",
              "      <th>Garage_opt_inc</th>\n",
              "      <th>Garage_price</th>\n",
              "      <th>Lat</th>\n",
              "      <th>Lon</th>\n",
              "      <th>New</th>\n",
              "      <th>Nudo</th>\n",
              "      <th>Price</th>\n",
              "      <th>Quarter</th>\n",
              "      <th>Rooms_num</th>\n",
              "      <th>Source URL</th>\n",
              "      <th>Year</th>\n",
              "    </tr>\n",
              "  </thead>\n",
              "  <tbody>\n",
              "    <tr>\n",
              "      <th>0</th>\n",
              "      <td>20191004</td>\n",
              "      <td>120</td>\n",
              "      <td>189.0</td>\n",
              "      <td>salamanca</td>\n",
              "      <td>con</td>\n",
              "      <td>exterior</td>\n",
              "      <td>1.0</td>\n",
              "      <td>inc</td>\n",
              "      <td>0.0</td>\n",
              "      <td>40.431277</td>\n",
              "      <td>-3.676940</td>\n",
              "      <td>NaN</td>\n",
              "      <td>False</td>\n",
              "      <td>920000.0</td>\n",
              "      <td>lista</td>\n",
              "      <td>4.0</td>\n",
              "      <td>https://www.idealista.com/inmueble/87208132/</td>\n",
              "      <td>1989.000000</td>\n",
              "    </tr>\n",
              "    <tr>\n",
              "      <th>1</th>\n",
              "      <td>20191004</td>\n",
              "      <td>9037</td>\n",
              "      <td>92.0</td>\n",
              "      <td>retiro</td>\n",
              "      <td>sin</td>\n",
              "      <td>exterior</td>\n",
              "      <td>2.0</td>\n",
              "      <td>0</td>\n",
              "      <td>0.0</td>\n",
              "      <td>40.412180</td>\n",
              "      <td>-3.667154</td>\n",
              "      <td>NaN</td>\n",
              "      <td>False</td>\n",
              "      <td>360000.0</td>\n",
              "      <td>estrella</td>\n",
              "      <td>3.0</td>\n",
              "      <td>https://www.idealista.com/inmueble/86718709/</td>\n",
              "      <td>1982.965873</td>\n",
              "    </tr>\n",
              "    <tr>\n",
              "      <th>2</th>\n",
              "      <td>20191004</td>\n",
              "      <td>9039</td>\n",
              "      <td>115.0</td>\n",
              "      <td>hortaleza</td>\n",
              "      <td>con</td>\n",
              "      <td>exterior</td>\n",
              "      <td>4.0</td>\n",
              "      <td>inc</td>\n",
              "      <td>0.0</td>\n",
              "      <td>40.488869</td>\n",
              "      <td>-3.647135</td>\n",
              "      <td>NaN</td>\n",
              "      <td>False</td>\n",
              "      <td>355000.0</td>\n",
              "      <td>sanchinarro</td>\n",
              "      <td>2.0</td>\n",
              "      <td>https://www.idealista.com/inmueble/86718422/</td>\n",
              "      <td>1982.965873</td>\n",
              "    </tr>\n",
              "    <tr>\n",
              "      <th>3</th>\n",
              "      <td>20191004</td>\n",
              "      <td>9048</td>\n",
              "      <td>85.0</td>\n",
              "      <td>centro</td>\n",
              "      <td>sin</td>\n",
              "      <td>exterior</td>\n",
              "      <td>2.0</td>\n",
              "      <td>0</td>\n",
              "      <td>0.0</td>\n",
              "      <td>40.423765</td>\n",
              "      <td>-3.697799</td>\n",
              "      <td>NaN</td>\n",
              "      <td>False</td>\n",
              "      <td>430000.0</td>\n",
              "      <td>chueca_justicia</td>\n",
              "      <td>2.0</td>\n",
              "      <td>https://www.idealista.com/inmueble/86717146/</td>\n",
              "      <td>1982.965873</td>\n",
              "    </tr>\n",
              "    <tr>\n",
              "      <th>4</th>\n",
              "      <td>20191004</td>\n",
              "      <td>9052</td>\n",
              "      <td>90.0</td>\n",
              "      <td>puente_de_vallecas</td>\n",
              "      <td>con</td>\n",
              "      <td>exterior</td>\n",
              "      <td>3.0</td>\n",
              "      <td>0</td>\n",
              "      <td>0.0</td>\n",
              "      <td>40.380525</td>\n",
              "      <td>-3.668974</td>\n",
              "      <td>NaN</td>\n",
              "      <td>False</td>\n",
              "      <td>149900.0</td>\n",
              "      <td>entrev_as</td>\n",
              "      <td>3.0</td>\n",
              "      <td>https://www.idealista.com/inmueble/86716878/</td>\n",
              "      <td>1982.965873</td>\n",
              "    </tr>\n",
              "  </tbody>\n",
              "</table>\n",
              "</div>"
            ],
            "text/plain": [
              "   Scrap_date  index  ...                                    Source URL         Year\n",
              "0    20191004    120  ...  https://www.idealista.com/inmueble/87208132/  1989.000000\n",
              "1    20191004   9037  ...  https://www.idealista.com/inmueble/86718709/  1982.965873\n",
              "2    20191004   9039  ...  https://www.idealista.com/inmueble/86718422/  1982.965873\n",
              "3    20191004   9048  ...  https://www.idealista.com/inmueble/86717146/  1982.965873\n",
              "4    20191004   9052  ...  https://www.idealista.com/inmueble/86716878/  1982.965873\n",
              "\n",
              "[5 rows x 18 columns]"
            ]
          },
          "metadata": {
            "tags": []
          },
          "execution_count": 3
        }
      ]
    },
    {
      "cell_type": "code",
      "metadata": {
        "id": "hLP9YR5sRqvX",
        "outputId": "4e45617d-62c7-4de9-c8be-bb37d15a1b8d",
        "colab": {
          "base_uri": "https://localhost:8080/"
        }
      },
      "source": [
        "# check how many rows have nulls\n",
        "df.isna().sum()"
      ],
      "execution_count": 9,
      "outputs": [
        {
          "output_type": "execute_result",
          "data": {
            "text/plain": [
              "Scrap_date            0\n",
              "index                 0\n",
              "Area                  0\n",
              "District              0\n",
              "Elevator_class        0\n",
              "Ext_int               0\n",
              "Floor_num             0\n",
              "Garage_opt_inc        0\n",
              "Garage_price          0\n",
              "Lat                   0\n",
              "Lon                   0\n",
              "New               11296\n",
              "Nudo                  0\n",
              "Price                 0\n",
              "Quarter               0\n",
              "Rooms_num             0\n",
              "Source URL            0\n",
              "Year                  0\n",
              "dtype: int64"
            ]
          },
          "metadata": {
            "tags": []
          },
          "execution_count": 9
        }
      ]
    },
    {
      "cell_type": "markdown",
      "metadata": {
        "id": "drKWHgUTSg8t"
      },
      "source": [
        "The column \"New\" has ~25% null values"
      ]
    },
    {
      "cell_type": "markdown",
      "metadata": {
        "id": "9m9fOnIgVG9w"
      },
      "source": [
        "Let's do basic type casting based on the description given above. The best data type for each column could be as following:   \n",
        "* 'Scrap_date': datetime\n",
        "* 'index': int\n",
        "* 'Area': float\n",
        "* 'District': str\n",
        "* 'Elevator_class': bool\n",
        "* 'Ext_int': bool\n",
        "* 'Floor_num': int\n",
        "* 'Garage_opt_inc': int\n",
        "* 'Garage_price': float\n",
        "* 'Lat': float\n",
        "* 'Lon': float\n",
        "* 'New': bool\n",
        "* 'Nudo': bool\n",
        "* 'Price': float\n",
        "* 'Quarter': str\n",
        "* 'Rooms_num': int\n",
        "* 'Source URL': str\n",
        "* 'Year': int or datetime\n"
      ]
    },
    {
      "cell_type": "code",
      "metadata": {
        "id": "fMZMv_aSVFCM"
      },
      "source": [
        "# start explicit type conversion\n",
        "schema_dict = {\n",
        "    'index': int,\n",
        "    'Area': float,\n",
        "    'District': str,\n",
        "    'Floor_num': int,\n",
        "    'Garage_price': float,\n",
        "    'Lat': float,\n",
        "    'Lon': float,\n",
        "    'New': bool,\n",
        "    'Nudo': bool,\n",
        "    'Price': float,\n",
        "    'Quarter': str,\n",
        "    'Rooms_num': int,\n",
        "    'Source URL': str,\n",
        "    'Year': int\n",
        "}\n",
        "df_new = df.astype(dtype=schema_dict)"
      ],
      "execution_count": 49,
      "outputs": []
    },
    {
      "cell_type": "code",
      "metadata": {
        "id": "m-Oe-tq_crQ9"
      },
      "source": [
        "ext_int_to_bool_map = {'exterior': True, 'interior': False}\n",
        "garage_opt_inc_to_int_map = {'opt': 1, 'inc': 2, \"0\": 0}\n",
        "elevator_to_bool_map = {'con': True, 'sin': False}"
      ],
      "execution_count": 53,
      "outputs": []
    },
    {
      "cell_type": "code",
      "metadata": {
        "id": "GgQd8tWiZ7u7"
      },
      "source": [
        "df_new['Ext_int'] = df['Ext_int'].apply(lambda x: ext_int_to_bool_map[x])\n",
        "df_new['Elevator_class'] = df['Elevator_class'].apply(lambda x: elevator_to_bool_map[x])\n",
        "df_new['Garage_opt_inc'] = df['Garage_opt_inc'].apply(lambda x: garage_opt_inc_to_int_map[x])\n",
        "df_new['Scrap_date'] = pd.to_datetime(df['Scrap_date'], format=\"%Y%m%d\")"
      ],
      "execution_count": 56,
      "outputs": []
    },
    {
      "cell_type": "code",
      "metadata": {
        "id": "6e9wJEUGb1s-",
        "outputId": "c4dc6410-a48b-4c1b-ca1e-a0e655d947bd",
        "colab": {
          "base_uri": "https://localhost:8080/"
        }
      },
      "source": [
        "df_new.info()"
      ],
      "execution_count": 57,
      "outputs": [
        {
          "output_type": "stream",
          "text": [
            "<class 'pandas.core.frame.DataFrame'>\n",
            "RangeIndex: 41961 entries, 0 to 41960\n",
            "Data columns (total 18 columns):\n",
            " #   Column          Non-Null Count  Dtype         \n",
            "---  ------          --------------  -----         \n",
            " 0   Scrap_date      41961 non-null  datetime64[ns]\n",
            " 1   index           41961 non-null  int64         \n",
            " 2   Area            41961 non-null  float64       \n",
            " 3   District        41961 non-null  object        \n",
            " 4   Elevator_class  41961 non-null  bool          \n",
            " 5   Ext_int         41961 non-null  bool          \n",
            " 6   Floor_num       41961 non-null  int64         \n",
            " 7   Garage_opt_inc  41961 non-null  int64         \n",
            " 8   Garage_price    41961 non-null  float64       \n",
            " 9   Lat             41961 non-null  float64       \n",
            " 10  Lon             41961 non-null  float64       \n",
            " 11  New             41961 non-null  bool          \n",
            " 12  Nudo            41961 non-null  bool          \n",
            " 13  Price           41961 non-null  float64       \n",
            " 14  Quarter         41961 non-null  object        \n",
            " 15  Rooms_num       41961 non-null  int64         \n",
            " 16  Source URL      41961 non-null  object        \n",
            " 17  Year            41961 non-null  int64         \n",
            "dtypes: bool(4), datetime64[ns](1), float64(5), int64(5), object(3)\n",
            "memory usage: 4.6+ MB\n"
          ],
          "name": "stdout"
        }
      ]
    },
    {
      "cell_type": "code",
      "metadata": {
        "id": "HPnW8L1Nb4nt",
        "outputId": "ada1f6fd-8634-4ff9-b473-0354b191bca1",
        "colab": {
          "base_uri": "https://localhost:8080/",
          "height": 293
        }
      },
      "source": [
        "df_new.head()"
      ],
      "execution_count": 58,
      "outputs": [
        {
          "output_type": "execute_result",
          "data": {
            "text/html": [
              "<div>\n",
              "<style scoped>\n",
              "    .dataframe tbody tr th:only-of-type {\n",
              "        vertical-align: middle;\n",
              "    }\n",
              "\n",
              "    .dataframe tbody tr th {\n",
              "        vertical-align: top;\n",
              "    }\n",
              "\n",
              "    .dataframe thead th {\n",
              "        text-align: right;\n",
              "    }\n",
              "</style>\n",
              "<table border=\"1\" class=\"dataframe\">\n",
              "  <thead>\n",
              "    <tr style=\"text-align: right;\">\n",
              "      <th></th>\n",
              "      <th>Scrap_date</th>\n",
              "      <th>index</th>\n",
              "      <th>Area</th>\n",
              "      <th>District</th>\n",
              "      <th>Elevator_class</th>\n",
              "      <th>Ext_int</th>\n",
              "      <th>Floor_num</th>\n",
              "      <th>Garage_opt_inc</th>\n",
              "      <th>Garage_price</th>\n",
              "      <th>Lat</th>\n",
              "      <th>Lon</th>\n",
              "      <th>New</th>\n",
              "      <th>Nudo</th>\n",
              "      <th>Price</th>\n",
              "      <th>Quarter</th>\n",
              "      <th>Rooms_num</th>\n",
              "      <th>Source URL</th>\n",
              "      <th>Year</th>\n",
              "    </tr>\n",
              "  </thead>\n",
              "  <tbody>\n",
              "    <tr>\n",
              "      <th>0</th>\n",
              "      <td>2019-10-04</td>\n",
              "      <td>120</td>\n",
              "      <td>189.0</td>\n",
              "      <td>salamanca</td>\n",
              "      <td>True</td>\n",
              "      <td>True</td>\n",
              "      <td>1</td>\n",
              "      <td>2</td>\n",
              "      <td>0.0</td>\n",
              "      <td>40.431277</td>\n",
              "      <td>-3.676940</td>\n",
              "      <td>True</td>\n",
              "      <td>False</td>\n",
              "      <td>920000.0</td>\n",
              "      <td>lista</td>\n",
              "      <td>4</td>\n",
              "      <td>https://www.idealista.com/inmueble/87208132/</td>\n",
              "      <td>1989</td>\n",
              "    </tr>\n",
              "    <tr>\n",
              "      <th>1</th>\n",
              "      <td>2019-10-04</td>\n",
              "      <td>9037</td>\n",
              "      <td>92.0</td>\n",
              "      <td>retiro</td>\n",
              "      <td>False</td>\n",
              "      <td>True</td>\n",
              "      <td>2</td>\n",
              "      <td>0</td>\n",
              "      <td>0.0</td>\n",
              "      <td>40.412180</td>\n",
              "      <td>-3.667154</td>\n",
              "      <td>True</td>\n",
              "      <td>False</td>\n",
              "      <td>360000.0</td>\n",
              "      <td>estrella</td>\n",
              "      <td>3</td>\n",
              "      <td>https://www.idealista.com/inmueble/86718709/</td>\n",
              "      <td>1982</td>\n",
              "    </tr>\n",
              "    <tr>\n",
              "      <th>2</th>\n",
              "      <td>2019-10-04</td>\n",
              "      <td>9039</td>\n",
              "      <td>115.0</td>\n",
              "      <td>hortaleza</td>\n",
              "      <td>True</td>\n",
              "      <td>True</td>\n",
              "      <td>4</td>\n",
              "      <td>2</td>\n",
              "      <td>0.0</td>\n",
              "      <td>40.488869</td>\n",
              "      <td>-3.647135</td>\n",
              "      <td>True</td>\n",
              "      <td>False</td>\n",
              "      <td>355000.0</td>\n",
              "      <td>sanchinarro</td>\n",
              "      <td>2</td>\n",
              "      <td>https://www.idealista.com/inmueble/86718422/</td>\n",
              "      <td>1982</td>\n",
              "    </tr>\n",
              "    <tr>\n",
              "      <th>3</th>\n",
              "      <td>2019-10-04</td>\n",
              "      <td>9048</td>\n",
              "      <td>85.0</td>\n",
              "      <td>centro</td>\n",
              "      <td>False</td>\n",
              "      <td>True</td>\n",
              "      <td>2</td>\n",
              "      <td>0</td>\n",
              "      <td>0.0</td>\n",
              "      <td>40.423765</td>\n",
              "      <td>-3.697799</td>\n",
              "      <td>True</td>\n",
              "      <td>False</td>\n",
              "      <td>430000.0</td>\n",
              "      <td>chueca_justicia</td>\n",
              "      <td>2</td>\n",
              "      <td>https://www.idealista.com/inmueble/86717146/</td>\n",
              "      <td>1982</td>\n",
              "    </tr>\n",
              "    <tr>\n",
              "      <th>4</th>\n",
              "      <td>2019-10-04</td>\n",
              "      <td>9052</td>\n",
              "      <td>90.0</td>\n",
              "      <td>puente_de_vallecas</td>\n",
              "      <td>True</td>\n",
              "      <td>True</td>\n",
              "      <td>3</td>\n",
              "      <td>0</td>\n",
              "      <td>0.0</td>\n",
              "      <td>40.380525</td>\n",
              "      <td>-3.668974</td>\n",
              "      <td>True</td>\n",
              "      <td>False</td>\n",
              "      <td>149900.0</td>\n",
              "      <td>entrev_as</td>\n",
              "      <td>3</td>\n",
              "      <td>https://www.idealista.com/inmueble/86716878/</td>\n",
              "      <td>1982</td>\n",
              "    </tr>\n",
              "  </tbody>\n",
              "</table>\n",
              "</div>"
            ],
            "text/plain": [
              "  Scrap_date  index  ...                                    Source URL  Year\n",
              "0 2019-10-04    120  ...  https://www.idealista.com/inmueble/87208132/  1989\n",
              "1 2019-10-04   9037  ...  https://www.idealista.com/inmueble/86718709/  1982\n",
              "2 2019-10-04   9039  ...  https://www.idealista.com/inmueble/86718422/  1982\n",
              "3 2019-10-04   9048  ...  https://www.idealista.com/inmueble/86717146/  1982\n",
              "4 2019-10-04   9052  ...  https://www.idealista.com/inmueble/86716878/  1982\n",
              "\n",
              "[5 rows x 18 columns]"
            ]
          },
          "metadata": {
            "tags": []
          },
          "execution_count": 58
        }
      ]
    },
    {
      "cell_type": "code",
      "metadata": {
        "id": "FI6DJAGEjjvU"
      },
      "source": [
        "df_new.to_csv('new.csv')"
      ],
      "execution_count": 59,
      "outputs": []
    },
    {
      "cell_type": "markdown",
      "metadata": {
        "id": "6Z53KB4CiSJw"
      },
      "source": [
        "Due to second time conversion of the column 'Nudo' the 'NaN' got converted to False.\n",
        "\n",
        "One thing to note here - the size of the data decreased in the following way:   \n",
        "* from 5.5 MB to 4.6 MB on RAM - 16.3% decrease\n",
        "* from 7.23 MB to 6.57 MB on Disk - 9.1% decrease\n",
        "\n",
        "Right now we can proceed with EDA as the data can be assumed to be considerably clean."
      ]
    },
    {
      "cell_type": "markdown",
      "metadata": {
        "id": "vqCX4fJ9GVD0"
      },
      "source": [
        "What is the mean and median price of a house in Madrid? Why and how do they differ?   "
      ]
    },
    {
      "cell_type": "code",
      "metadata": {
        "id": "J-1a6AmUk1IF"
      },
      "source": [
        ""
      ],
      "execution_count": null,
      "outputs": []
    },
    {
      "cell_type": "markdown",
      "metadata": {
        "id": "iHAVVAAAGf9h"
      },
      "source": [
        "How are the floors and square meter distributed? What kind of distribution best fits them? "
      ]
    },
    {
      "cell_type": "code",
      "metadata": {
        "id": "0mi7lUvN8QLh"
      },
      "source": [
        ""
      ],
      "execution_count": null,
      "outputs": []
    },
    {
      "cell_type": "markdown",
      "metadata": {
        "id": "AP6QBcS0GXIN"
      },
      "source": [
        "What factors have the strongest influence on the price? Which ones on the price "
      ]
    },
    {
      "cell_type": "markdown",
      "metadata": {
        "id": "ZEgeBUOcGXKo"
      },
      "source": [
        "How has the price per square meter evolved within the last year using the scrape date as a proxy? "
      ]
    },
    {
      "cell_type": "markdown",
      "metadata": {
        "id": "Vl5iUTp1GXM5"
      },
      "source": [
        "What architecture (in the cloud) do you propose for the tasks above? What might be issues/bottlenecks for scaling your architecture? "
      ]
    },
    {
      "cell_type": "markdown",
      "metadata": {
        "id": "NtgNYGPzGXPo"
      },
      "source": [
        "How would you set up an environment to allow repeatable data collection (scraping)? "
      ]
    },
    {
      "cell_type": "markdown",
      "metadata": {
        "id": "jkv_4GfaGXSa"
      },
      "source": [
        "How would you recommend storing the data? A future use case might involve the storing of images, videos, … "
      ]
    },
    {
      "cell_type": "markdown",
      "metadata": {
        "id": "WUTbAIugGXU4"
      },
      "source": [
        "How would you make the data available for further analysis (real-time and long term)? "
      ]
    },
    {
      "cell_type": "markdown",
      "metadata": {
        "id": "Et-JqsCvGXXq"
      },
      "source": [
        "How would you make the data available for further analysis (real-time and long term)? "
      ]
    },
    {
      "cell_type": "markdown",
      "metadata": {
        "id": "4s8Zuik2GsWf"
      },
      "source": [
        "What issues might arise when using an external web source? How would you circumvent these?"
      ]
    }
  ]
}